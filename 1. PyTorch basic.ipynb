{
 "cells": [
  {
   "cell_type": "markdown",
   "id": "987a9ab5-e4fc-4e65-8a0d-bd1a9b0c03c5",
   "metadata": {},
   "source": [
    "# 1 基本使用方法"
   ]
  },
  {
   "cell_type": "code",
   "execution_count": 1,
   "id": "eb537149-a106-4fa0-8467-7a423609a78b",
   "metadata": {},
   "outputs": [
    {
     "data": {
      "text/plain": [
       "'1.9.1'"
      ]
     },
     "execution_count": 1,
     "metadata": {},
     "output_type": "execute_result"
    }
   ],
   "source": [
    "import torch\n",
    "torch.__version__"
   ]
  },
  {
   "cell_type": "markdown",
   "id": "71a27681-8e62-437e-942b-a5c7604f461c",
   "metadata": {},
   "source": [
    "## 创建一个矩阵"
   ]
  },
  {
   "cell_type": "code",
   "execution_count": 2,
   "id": "4dc99f6d-248e-4c4a-8545-cad1ff15c436",
   "metadata": {},
   "outputs": [
    {
     "data": {
      "text/plain": [
       "tensor([[ 6.2582e-42,  1.8776e-39,  5.1252e-36],\n",
       "        [ 4.6894e+27,  2.6706e-41,  1.0877e-38],\n",
       "        [ 4.8872e-26,  2.5353e+30,  3.3631e-44],\n",
       "        [ 2.6347e-41,  1.2990e-38, -1.7779e-37],\n",
       "        [ 2.5353e+30,  1.1070e-43,  2.8275e+32]])"
      ]
     },
     "execution_count": 2,
     "metadata": {},
     "output_type": "execute_result"
    }
   ],
   "source": [
    "x = torch.empty(5,3)\n",
    "x"
   ]
  },
  {
   "cell_type": "markdown",
   "id": "8f13d678-d092-4763-a188-48dd2c99323d",
   "metadata": {},
   "source": [
    "## 创建一个随机矩阵"
   ]
  },
  {
   "cell_type": "code",
   "execution_count": 3,
   "id": "74e1a93c-ffc1-43bd-bfe7-54537084da68",
   "metadata": {},
   "outputs": [
    {
     "data": {
      "text/plain": [
       "tensor([[0.0831, 0.1800, 0.4176],\n",
       "        [0.3979, 0.3776, 0.1933],\n",
       "        [0.1880, 0.8298, 0.5212],\n",
       "        [0.1913, 0.7902, 0.2759],\n",
       "        [0.1387, 0.0664, 0.5123]])"
      ]
     },
     "execution_count": 3,
     "metadata": {},
     "output_type": "execute_result"
    }
   ],
   "source": [
    "x = torch.rand(5,3)\n",
    "x"
   ]
  },
  {
   "cell_type": "markdown",
   "id": "29e26775-0e9f-4c7f-8e03-eebe53117d79",
   "metadata": {},
   "source": [
    "## 初始化一个全零的矩阵"
   ]
  },
  {
   "cell_type": "code",
   "execution_count": 4,
   "id": "920116f9-bbcc-4e3c-b928-16383efb2d26",
   "metadata": {},
   "outputs": [
    {
     "data": {
      "text/plain": [
       "tensor([[0, 0, 0],\n",
       "        [0, 0, 0],\n",
       "        [0, 0, 0],\n",
       "        [0, 0, 0],\n",
       "        [0, 0, 0]])"
      ]
     },
     "execution_count": 4,
     "metadata": {},
     "output_type": "execute_result"
    }
   ],
   "source": [
    "x = torch.zeros(5, 3, dtype=torch.long)\n",
    "x"
   ]
  },
  {
   "cell_type": "code",
   "execution_count": null,
   "id": "5c62571d-a474-46c1-a144-9b03a3a917bd",
   "metadata": {},
   "outputs": [],
   "source": []
  }
 ],
 "metadata": {
  "kernelspec": {
   "display_name": "Python 3",
   "language": "python",
   "name": "python3"
  },
  "language_info": {
   "codemirror_mode": {
    "name": "ipython",
    "version": 3
   },
   "file_extension": ".py",
   "mimetype": "text/x-python",
   "name": "python",
   "nbconvert_exporter": "python",
   "pygments_lexer": "ipython3",
   "version": "3.8.8"
  }
 },
 "nbformat": 4,
 "nbformat_minor": 5
}
