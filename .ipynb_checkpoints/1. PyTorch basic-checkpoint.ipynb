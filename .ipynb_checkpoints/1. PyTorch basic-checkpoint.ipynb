{
 "cells": [
  {
   "cell_type": "markdown",
   "id": "987a9ab5-e4fc-4e65-8a0d-bd1a9b0c03c5",
   "metadata": {},
   "source": [
    "# 1 基本使用方法"
   ]
  },
  {
   "cell_type": "code",
   "execution_count": 1,
   "id": "eb537149-a106-4fa0-8467-7a423609a78b",
   "metadata": {},
   "outputs": [
    {
     "data": {
      "text/plain": [
       "'1.9.1'"
      ]
     },
     "execution_count": 1,
     "metadata": {},
     "output_type": "execute_result"
    }
   ],
   "source": [
    "import torch\n",
    "torch.__version__"
   ]
  },
  {
   "cell_type": "markdown",
   "id": "71a27681-8e62-437e-942b-a5c7604f461c",
   "metadata": {},
   "source": [
    "## 创建一个矩阵"
   ]
  },
  {
   "cell_type": "code",
   "execution_count": 2,
   "id": "4dc99f6d-248e-4c4a-8545-cad1ff15c436",
   "metadata": {},
   "outputs": [
    {
     "data": {
      "text/plain": [
       "tensor([[ 1.2090e+33,  6.8311e+22,  7.0368e+28],\n",
       "        [-1.7200e+16,  1.8522e+28,  1.1447e+24],\n",
       "        [ 6.5934e+22,  4.6885e+27,  2.5353e+30],\n",
       "        [ 8.4078e-45,  2.8158e+30,  1.9618e-43],\n",
       "        [ 6.2582e-42,  1.8776e-39,  5.1252e-36]])"
      ]
     },
     "execution_count": 2,
     "metadata": {},
     "output_type": "execute_result"
    }
   ],
   "source": [
    "x = torch.empty(5,3)\n",
    "x"
   ]
  },
  {
   "cell_type": "markdown",
   "id": "8f13d678-d092-4763-a188-48dd2c99323d",
   "metadata": {},
   "source": [
    "## 创建一个随机矩阵"
   ]
  },
  {
   "cell_type": "code",
   "execution_count": 3,
   "id": "74e1a93c-ffc1-43bd-bfe7-54537084da68",
   "metadata": {},
   "outputs": [
    {
     "data": {
      "text/plain": [
       "tensor([[0.0960, 0.3555, 0.7935],\n",
       "        [0.2735, 0.4337, 0.2232],\n",
       "        [0.8339, 0.6679, 0.6885],\n",
       "        [0.2015, 0.1086, 0.5005],\n",
       "        [0.5869, 0.1190, 0.0047]])"
      ]
     },
     "execution_count": 3,
     "metadata": {},
     "output_type": "execute_result"
    }
   ],
   "source": [
    "x = torch.rand(5,3)\n",
    "x"
   ]
  },
  {
   "cell_type": "markdown",
   "id": "29e26775-0e9f-4c7f-8e03-eebe53117d79",
   "metadata": {},
   "source": [
    "## 初始化一个全零的矩阵"
   ]
  },
  {
   "cell_type": "code",
   "execution_count": 4,
   "id": "920116f9-bbcc-4e3c-b928-16383efb2d26",
   "metadata": {},
   "outputs": [
    {
     "data": {
      "text/plain": [
       "tensor([[0, 0, 0],\n",
       "        [0, 0, 0],\n",
       "        [0, 0, 0],\n",
       "        [0, 0, 0],\n",
       "        [0, 0, 0]])"
      ]
     },
     "execution_count": 4,
     "metadata": {},
     "output_type": "execute_result"
    }
   ],
   "source": [
    "x = torch.zeros(5, 3, dtype=torch.long)\n",
    "x"
   ]
  },
  {
   "cell_type": "code",
   "execution_count": null,
   "id": "5c62571d-a474-46c1-a144-9b03a3a917bd",
   "metadata": {},
   "outputs": [],
   "source": []
  }
 ],
 "metadata": {
  "kernelspec": {
   "display_name": "Python 3",
   "language": "python",
   "name": "python3"
  },
  "language_info": {
   "codemirror_mode": {
    "name": "ipython",
    "version": 3
   },
   "file_extension": ".py",
   "mimetype": "text/x-python",
   "name": "python",
   "nbconvert_exporter": "python",
   "pygments_lexer": "ipython3",
   "version": "3.8.8"
  }
 },
 "nbformat": 4,
 "nbformat_minor": 5
}
